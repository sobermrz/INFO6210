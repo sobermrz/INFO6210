{
 "cells": [
  {
   "cell_type": "markdown",
   "metadata": {},
   "source": [
    "# MongoDB Tutoring"
   ]
  },
  {
   "cell_type": "markdown",
   "metadata": {},
   "source": [
    "## 1. The introduction of MongoDB"
   ]
  },
  {
   "cell_type": "markdown",
   "metadata": {},
   "source": [
    "### 1.1 What is MongoDB?"
   ]
  },
  {
   "attachments": {},
   "cell_type": "markdown",
   "metadata": {},
   "source": [
    "MongoDB is a database based on distributed file storage, written by C++ and is designed to provide scalable high-performance data storage soluations for WEB application. MongoDB is a high-performance, open source and modeless document database. \n",
    "The official definition for yourself is a bridge between Key-value storage (high performance and high expansion) and traditional RDBMS (rich query and function)."
   ]
  },
  {
   "attachments": {},
   "cell_type": "markdown",
   "metadata": {},
   "source": [
    "### 1.2\tThe docment and BSON in MongoDB"
   ]
  },
  {
   "attachments": {},
   "cell_type": "markdown",
   "metadata": {},
   "source": [
    "In MongoDB, data are stored as BSON, for example:\n",
    "{\n",
    "\tname: “ruizhi”,\n",
    "\tage: “23”,\n",
    "\tgroups: [“art”, “game”]\n",
    "}"
   ]
  },
  {
   "attachments": {},
   "cell_type": "markdown",
   "metadata": {},
   "source": [
    "The basic unit of data in MongoDB is called a Document, it is the core concept of MongoDB, which is composed by multiple keys and values placed together in an order. They are corresponding to the rows in the database.\n",
    "Data in MongoDB are stored as the form of BSON(Binary-JSON). BSON\n",
    "(Binary Serialized Document Format) is a binary json-like storage format. It is just like JSON and supports embedded document objects and array objects, but BSON has some data types that JSON does not have, such as Date and BinData types."
   ]
  },
  {
   "cell_type": "markdown",
   "metadata": {},
   "source": [
    "### 1.3 Features\n",
    "\n",
    "MongoDB is a database for document storage, which is relatively simple and easy to operate.  \n",
    "You can set any attribute index (such as: FirstName = \"Sameer\", Address = \"8 Gandhi Road\") in MongoDB records to achieve faster sorting.  \n",
    "You can create data mirrors locally or on the network, which makes MongoDB more scalable.  \n",
    "If the load increases (requires more storage space and stronger processing power), it can be distributed on other nodes in the computer network. This is called sharding.  \n",
    "Mongo supports rich query expressions. The query command uses JSON format tags to easily query the embedded objects and arrays in the document.  \n",
    "MongoDb can use the update () command to replace the completed document (data) or some specified data fields.  \n",
    "Map / reduce in Mongodb is mainly used to batch process and aggregate data.  \n",
    "Map and Reduce. The Map function calls emit (key, value) to traverse all the records in the collection, and passes the key and value to the Reduce function for processing.  \n",
    "The Map function and Reduce function are written in Javascript, and MapReduce operations can be performed through the db.runCommand or mapreduce commands.  \n",
    "GridFS is a built-in feature in MongoDB that can be used to store a large number of small files.  \n",
    "MongoDB allows script execution on the server side. You can write a function in Javascript and execute it directly on the server side. You can also store the function definition on the server side and call it directly next time.  \n",
    "MongoDB supports various programming languages: RUBY, PYTHON, JAVA, C ++, PHP, C # and other languages.  \n",
    "MongoDB is easy to install.  "
   ]
  },
  {
   "cell_type": "markdown",
   "metadata": {},
   "source": [
    "## 2. Prepare for the MongoDB\n",
    "### 2.1 Make a connection through pymongo"
   ]
  },
  {
   "cell_type": "markdown",
   "metadata": {},
   "source": [
    "First, we need to import pymongo."
   ]
  },
  {
   "cell_type": "code",
   "execution_count": 1,
   "metadata": {},
   "outputs": [],
   "source": [
    "import pymongo"
   ]
  },
  {
   "cell_type": "markdown",
   "metadata": {},
   "source": [
    "Then we need to create a MongoClient to run MongoDB instance"
   ]
  },
  {
   "cell_type": "code",
   "execution_count": 2,
   "metadata": {},
   "outputs": [],
   "source": [
    "from pymongo import MongoClient\n",
    "client = MongoClient()"
   ]
  },
  {
   "cell_type": "markdown",
   "metadata": {},
   "source": [
    "The above code can connect to the default host and post, but also, we could specify the host and post we want"
   ]
  },
  {
   "cell_type": "code",
   "execution_count": 3,
   "metadata": {},
   "outputs": [],
   "source": [
    "client = MongoClient(\"localhost\", 27017)"
   ]
  },
  {
   "cell_type": "markdown",
   "metadata": {},
   "source": [
    "Also, we have another method to make the connection"
   ]
  },
  {
   "cell_type": "code",
   "execution_count": 4,
   "metadata": {},
   "outputs": [],
   "source": [
    "client = MongoClient('mongodb://localhost:27017/')"
   ]
  },
  {
   "cell_type": "markdown",
   "metadata": {},
   "source": [
    "### 2.2 Create a Database"
   ]
  },
  {
   "cell_type": "markdown",
   "metadata": {},
   "source": [
    "To create a database in MongoDB, we need to speciy the name of a database."
   ]
  },
  {
   "cell_type": "code",
   "execution_count": 5,
   "metadata": {},
   "outputs": [],
   "source": [
    "db = client['tutoring']"
   ]
  },
  {
   "cell_type": "markdown",
   "metadata": {},
   "source": [
    "## 3. Basic operations in MongoDB"
   ]
  },
  {
   "cell_type": "markdown",
   "metadata": {},
   "source": [
    "## 3.1 Inserting a Document"
   ]
  },
  {
   "attachments": {},
   "cell_type": "markdown",
   "metadata": {},
   "source": [
    "To insert a document into MongoDB, we use 'insert_one()' methods.\n",
    "Document is document data, and collection is a collection of document data.For example: all user information is stored in the user’s collection, each user information is a user document, insert data:\n",
    "db.users.insert(user);\n",
    "If the collection exists, the document will be added to the collection directory. If the collection does not exist, the database will first create the collection and then save the document."
   ]
  },
  {
   "cell_type": "code",
   "execution_count": 6,
   "metadata": {},
   "outputs": [],
   "source": [
    "article = {\n",
    "    \"author\": \"Luxun\",\n",
    "    \"description\":\"the most important book in China\",\n",
    "    \"tags\": [\"society\",\"history\",\"critical\"]\n",
    "}"
   ]
  },
  {
   "cell_type": "code",
   "execution_count": 7,
   "metadata": {},
   "outputs": [],
   "source": [
    "articles = db.articles\n",
    "result = articles.insert_one(article)"
   ]
  },
  {
   "cell_type": "markdown",
   "metadata": {},
   "source": [
    "when the document is inserted, an id will gengerated automatically. We can print it as follows:"
   ]
  },
  {
   "cell_type": "code",
   "execution_count": 8,
   "metadata": {},
   "outputs": [
    {
     "name": "stdout",
     "output_type": "stream",
     "text": [
      "the id is: 5ea3906d920957af0a71267d\n"
     ]
    }
   ],
   "source": [
    "print(\"the id is: {}\".format(result.inserted_id))"
   ]
  },
  {
   "cell_type": "markdown",
   "metadata": {},
   "source": [
    "The collection names articles is created and we can comfirmed that by using list_collection_name mothed"
   ]
  },
  {
   "cell_type": "code",
   "execution_count": 9,
   "metadata": {},
   "outputs": [
    {
     "data": {
      "text/plain": [
       "['articles']"
      ]
     },
     "execution_count": 9,
     "metadata": {},
     "output_type": "execute_result"
    }
   ],
   "source": [
    "db.list_collection_names()"
   ]
  },
  {
   "attachments": {},
   "cell_type": "markdown",
   "metadata": {},
   "source": [
    "The insert statement can not only insert a single document, but also insert multiple documents at once. When inserting multiple documents, the parameter of the insert command is an array, and the array elements are documents in BSON format. Multiple documents can be placed in an array, inserting multiple data at once, for example:"
   ]
  },
  {
   "cell_type": "code",
   "execution_count": 10,
   "metadata": {},
   "outputs": [
    {
     "name": "stdout",
     "output_type": "stream",
     "text": [
      "The new article IDs are [ObjectId('5ea3906d920957af0a71267e'), ObjectId('5ea3906d920957af0a71267f')]\n"
     ]
    }
   ],
   "source": [
    "article1 = {\"author\": \"Ruizhi\",\n",
    "            \"about\": \"Book one\",\n",
    "            \"tags\":\n",
    "                [\"first tag\",\"second tag\"]}\n",
    "\n",
    "article2 = {\"author\": \"Nuo\",\n",
    "            \"about\": \"Book two\",\n",
    "            \"tags\":\n",
    "                [\"first tag\", \"second tag\"]}\n",
    "\n",
    "new_articles = articles.insert_many([article1, article2])\n",
    "\n",
    "print(\"The new article IDs are {}\".format(new_articles.inserted_ids))"
   ]
  },
  {
   "cell_type": "markdown",
   "metadata": {},
   "source": [
    "### 3.2 Retrieving a Single Document with find_one()"
   ]
  },
  {
   "cell_type": "markdown",
   "metadata": {},
   "source": [
    "Using find_one() returns one single document by matching the query requirement. When we call the method, it will return the first article in the database"
   ]
  },
  {
   "cell_type": "code",
   "execution_count": 11,
   "metadata": {},
   "outputs": [
    {
     "name": "stdout",
     "output_type": "stream",
     "text": [
      "{'_id': ObjectId('5ea3906d920957af0a71267d'), 'author': 'Luxun', 'description': 'the most important book in China', 'tags': ['society', 'history', 'critical']}\n"
     ]
    }
   ],
   "source": [
    "print(articles.find_one())"
   ]
  },
  {
   "cell_type": "markdown",
   "metadata": {},
   "source": [
    "### 3.3 Finding all Documents with find()"
   ]
  },
  {
   "attachments": {},
   "cell_type": "markdown",
   "metadata": {},
   "source": [
    "Use the find command when querying and retrieving data in MongoDB. The find command has two optional parameters, criterion is the query condition, and projection is the returned field. If no condition database is passed, all documents in the collection will be returned."
   ]
  },
  {
   "cell_type": "code",
   "execution_count": 12,
   "metadata": {},
   "outputs": [
    {
     "name": "stdout",
     "output_type": "stream",
     "text": [
      "{'_id': ObjectId('5ea3906d920957af0a71267d'), 'author': 'Luxun', 'description': 'the most important book in China', 'tags': ['society', 'history', 'critical']}\n",
      "{'_id': ObjectId('5ea3906d920957af0a71267e'), 'author': 'Ruizhi', 'about': 'Book one', 'tags': ['first tag', 'second tag']}\n",
      "{'_id': ObjectId('5ea3906d920957af0a71267f'), 'author': 'Nuo', 'about': 'Book two', 'tags': ['first tag', 'second tag']}\n"
     ]
    }
   ],
   "source": [
    "for article in articles.find():\n",
    "    print(article)"
   ]
  },
  {
   "cell_type": "markdown",
   "metadata": {},
   "source": [
    "#### 3.3.1 Questions: How to find some specific items in a collection?"
   ]
  },
  {
   "cell_type": "markdown",
   "metadata": {},
   "source": [
    "Execise: Some times, we want to search some items with specific tag, we still can use find_one or find_many(), try to figure out how to find the item with author names Luxun?"
   ]
  },
  {
   "cell_type": "code",
   "execution_count": 13,
   "metadata": {},
   "outputs": [
    {
     "name": "stdout",
     "output_type": "stream",
     "text": [
      "<pymongo.cursor.Cursor object at 0x10c9397c0>\n"
     ]
    }
   ],
   "source": [
    "# for article in articles.find({}, {\"author\": \"Luxun\"}):\n",
    "#     print(article)\n",
    "\n",
    "article = articles.find({}, {\"author\": \"Luxun\"})\n",
    "    \n",
    "print(article)"
   ]
  },
  {
   "cell_type": "markdown",
   "metadata": {},
   "source": [
    "### 3.4 Sorting the results"
   ]
  },
  {
   "cell_type": "markdown",
   "metadata": {},
   "source": [
    "We can use the sort() method to sort the results and use 1 to ascending order and -1 to descending order."
   ]
  },
  {
   "cell_type": "code",
   "execution_count": 14,
   "metadata": {},
   "outputs": [
    {
     "name": "stdout",
     "output_type": "stream",
     "text": [
      "{'_id': ObjectId('5ea3906d920957af0a71267e'), 'author': 'Ruizhi', 'about': 'Book one', 'tags': ['first tag', 'second tag']}\n",
      "{'_id': ObjectId('5ea3906d920957af0a71267f'), 'author': 'Nuo', 'about': 'Book two', 'tags': ['first tag', 'second tag']}\n",
      "{'_id': ObjectId('5ea3906d920957af0a71267d'), 'author': 'Luxun', 'description': 'the most important book in China', 'tags': ['society', 'history', 'critical']}\n"
     ]
    }
   ],
   "source": [
    "doc = articles.find().sort(\"author\", -1)\n",
    "\n",
    "for x in doc:\n",
    "  print(x)"
   ]
  },
  {
   "cell_type": "markdown",
   "metadata": {},
   "source": [
    "### 3.5 Updating a Document"
   ]
  },
  {
   "cell_type": "markdown",
   "metadata": {},
   "source": [
    "we usually use update_one() method to update a document content"
   ]
  },
  {
   "cell_type": "code",
   "execution_count": 15,
   "metadata": {},
   "outputs": [
    {
     "name": "stdout",
     "output_type": "stream",
     "text": [
      "{'_id': ObjectId('5ea3906d920957af0a71267d'), 'author': 'Luxun', 'description': 'the most important book in China', 'tags': ['society', 'history', 'critical']}\n",
      "{'_id': ObjectId('5ea3906d920957af0a71267e'), 'author': 'Ruizhi', 'about': 'Book one', 'tags': ['first tag', 'second tag']}\n",
      "{'_id': ObjectId('5ea3906d920957af0a71267f'), 'author': 'Nuo', 'about': 'Book two', 'tags': ['first tag', 'second tag']}\n"
     ]
    }
   ],
   "source": [
    "query = {\"author\": \"ruizhi\"}\n",
    "\n",
    "new_author = {\"$set\": {\"author\": \"ma\"}}\n",
    "\n",
    "articles.update_one(query, new_author)\n",
    "\n",
    "for article in articles.find():\n",
    "    print(article)"
   ]
  },
  {
   "cell_type": "markdown",
   "metadata": {},
   "source": [
    "### 3.6 Limiting the Result"
   ]
  },
  {
   "cell_type": "markdown",
   "metadata": {},
   "source": [
    "MongoDB enable us to query limited amount of results."
   ]
  },
  {
   "cell_type": "code",
   "execution_count": 16,
   "metadata": {},
   "outputs": [
    {
     "name": "stdout",
     "output_type": "stream",
     "text": [
      "{'_id': ObjectId('5ea3906d920957af0a71267d'), 'author': 'Luxun', 'description': 'the most important book in China', 'tags': ['society', 'history', 'critical']}\n",
      "{'_id': ObjectId('5ea3906d920957af0a71267e'), 'author': 'Ruizhi', 'about': 'Book one', 'tags': ['first tag', 'second tag']}\n"
     ]
    }
   ],
   "source": [
    "limited = articles.find().limit(2)\n",
    "\n",
    "for x in limited:\n",
    "    print(x)"
   ]
  },
  {
   "cell_type": "markdown",
   "metadata": {},
   "source": [
    "### 3.7 deleting documents with delete_one()"
   ]
  },
  {
   "cell_type": "markdown",
   "metadata": {},
   "source": [
    "we use delete_one to delete a document in MongoDB. You need to specify the document that you want to delete like follows:"
   ]
  },
  {
   "cell_type": "code",
   "execution_count": 17,
   "metadata": {},
   "outputs": [
    {
     "data": {
      "text/plain": [
       "<pymongo.results.DeleteResult at 0x10c965300>"
      ]
     },
     "execution_count": 17,
     "metadata": {},
     "output_type": "execute_result"
    }
   ],
   "source": [
    "db.articles.delete_one({\"_id\":\"5ea1e1bc106c83ee073753ff\"})"
   ]
  },
  {
   "cell_type": "markdown",
   "metadata": {},
   "source": [
    "### 3.8 Deleting many documents with delete_many()"
   ]
  },
  {
   "cell_type": "markdown",
   "metadata": {},
   "source": [
    "In order to delete many documents in MongoDB, we usually use delete_many() method to do deletion"
   ]
  },
  {
   "cell_type": "code",
   "execution_count": 18,
   "metadata": {},
   "outputs": [
    {
     "name": "stdout",
     "output_type": "stream",
     "text": [
      "<pymongo.results.DeleteResult object at 0x10c965040>\n"
     ]
    }
   ],
   "source": [
    "delete_many = articles.delete_many({})\n",
    "\n",
    "print(delete_many)"
   ]
  },
  {
   "cell_type": "markdown",
   "metadata": {},
   "source": [
    "### 3.9 Dropping a Collection\n",
    "In MongoDB, we can drop the collection by using drop() method"
   ]
  },
  {
   "cell_type": "code",
   "execution_count": 19,
   "metadata": {},
   "outputs": [],
   "source": [
    "articles.drop()"
   ]
  },
  {
   "cell_type": "markdown",
   "metadata": {},
   "source": [
    "then, we can confirm that by call list_collection_names:"
   ]
  },
  {
   "cell_type": "code",
   "execution_count": 20,
   "metadata": {},
   "outputs": [
    {
     "data": {
      "text/plain": [
       "[]"
      ]
     },
     "execution_count": 20,
     "metadata": {},
     "output_type": "execute_result"
    }
   ],
   "source": [
    "db.list_collection_names()"
   ]
  },
  {
   "attachments": {},
   "cell_type": "markdown",
   "metadata": {},
   "source": [
    "## 4. Adanced Knowledge in MongoDB\n",
    "### 4.1 One to many relationship\n",
    "#### 4.1.1 n (n<100)\n",
    "For example, each Person will have multiple Address. In this case, we use the simplest embedded document to model.  \n",
    "\n",
    "{  \n",
    "  name: 'Kate Monster',  \n",
    "  id: '123-456-7890',  \n",
    "  addresses : [  \n",
    "     { street: '123 Sesame St', city: 'Anytown', cc: 'USA' },  \n",
    "     { street: '123 Avenue Q', city: 'New York', cc: 'USA' }  \n",
    "  ]  \n",
    "}  \n",
    "  \n",
    "This modeling approach includes obvious strengths and weaknesses:  \n",
    "Strengths: You don't need to run a separate query to get all Address information of a person.  \n",
    "Disadvantages: You can't manipulate Address information like an independent document.  \n",
    "\n",
    "You must first operate (for example, query) the Person document before it is possible to continue to operate Address.  \n",
    "\n",
    "In this example, we do not need to perform independent operations on Address. And the Address information is meaningful only when it is associated with a specific Person. So the conclusion is: using this embedded (embedded) modeling is very suitable for Person-Address scenarios.\n",
    "\n",
    "#### 4.1.2. n (100 <n< 1000)\n",
    "For example, products and parts, each product will have many parts. In such a scenario, we can use reference to model, such as the following:  \n",
    "\n",
    "Part:  \n",
    "{  \n",
    "    _id : ObjectID('AAAA'),  \n",
    "    partno : '123-aff-456',  \n",
    "    name : '#4 grommet',  \n",
    "    qty: 94,  \n",
    "    cost: 0.94,  \n",
    "    price: 3.99  \n",
    "}  \n",
    "\n",
    "\n",
    "Product:  \n",
    "{  \n",
    "    name : 'left-handed smoke shifter',  \n",
    "    manufacturer : 'Acme Corp',  \n",
    "    catalog_number: 1234,  \n",
    "    parts : [     // array of references to Part documents  \n",
    "        ObjectID('AAAA'),    // reference to the #4 grommet above  \n",
    "        ObjectID('F17C'),    // reference to a different Part  \n",
    "        ObjectID('D2AA'),  \n",
    "        // etc  \n",
    "    ]  \n",
    "}  \n",
    "  \n",
    "Strengths: Components exist as independent documents, and you can perform independent operations on a component. For example, query or update.  \n",
    "Disadvantages: As mentioned above, you must find the information of all parts to which a certain product belongs through two queries.  \n",
    "\n",
    "In this case. This shortcoming is acceptable. It is not difficult to realize by itself. And, through such modeling, you can easily extend 1 to n to n to n. That is, a product can include multiple components, and a component can be referenced by multiple products at the same time (that is, the same component can be used by multiple products).\n",
    "\n",
    "#### 4.1.3 n (1000 <n)  \n",
    "For example. Each host (host) will generate a very large number of log messages (logmsg).\n",
    "\n",
    "In this case, assuming you use embedded modeling, a host document will be very large, which easily exceeds the MongoDB document limit size. So it is not feasible. Suppose you use the second method to model and use an array to store all logmsg _id values. This method is not feasible. When there are too many logs, even if the objectId alone is referenced, it will easily exceed the document limit size. So at this time, we use the following method:\n",
    "  \n",
    "Host:  \n",
    "{  \n",
    "    _id : ObjectID('AAAB'),  \n",
    "    name : 'goofy.example.com',  \n",
    "    ipaddr : '127.66.66.66'  \n",
    "}  \n",
    " \n",
    "Log messages:  \n",
    "{  \n",
    "    time : ISODate(\"2014-03-28T09:42:41.382Z\"),  \n",
    "    message : 'cpu is on fire!',  \n",
    "    host: ObjectID('AAAB')       // Reference to the Host document  \n",
    "}  \n",
    "\n",
    "We only need to store the _id reference to the host in log messages.\n",
    "\n",
    "### 4.2 Summary\n",
    "In summary, when modeling the 1 to n relationship, we need to consider:\n",
    "\n",
    "1) The order of magnitude represented by n is very small. And when the entity represented by n does not need to operate separately, it can adopt embedded modeling.\n",
    "\n",
    "2) The order of magnitude represented by n is relatively large. Or when the entity represented by n needs to be operated separately, it is modeled by storing the reference in Array in 1.\n",
    "\n",
    "3) When the magnitude of n is large, we have no choice. It is only possible to add a reference to terminal 1 at terminal n."
   ]
  },
  {
   "cell_type": "markdown",
   "metadata": {},
   "source": [
    "## 5 Assement\n"
   ]
  },
  {
   "cell_type": "markdown",
   "metadata": {},
   "source": [
    "1. How to enter my_user database\n",
    "2. How to insert a document into the user collection of the database\n",
    "3. How to query documents in user collection\n",
    "4. How to insert a document into the user collection of the database\n",
    "5. How to query the documents in the database user collection\n",
    "6. How to count the number of documents in the database user collection\n",
    "7. How to query the document whose username is sunwukong in the database user collection\n",
    "8. How to add an address attribute to the document whose suername is sunwukong in the database user collection, the attribute value is huaguoshan\n",
    "9. How to use {username: \"tangseng\"} to replace the document whose username is hubajie\n",
    "10. How to delete the address attribute of a document whose username is sunwukong\n",
    "11. How to add a hobby: {cities: [\"beijing\", \"shanghai\", \"shenzhen\"], movies: [\"sanguo\", \"hero\"]} to the document whose username is sunwukong\n",
    "12. How to add a hobby: {movies: [\"A Chinese man\", \"the king of god\"]} to the document whose username is tangseng\n",
    "13. How to check the documents of hero hero\n",
    "14. How to add a new movie Interstellar to tangseng\n",
    "15. How to delete users who like beijing\n",
    "16. How to empty the user collection"
   ]
  },
  {
   "cell_type": "markdown",
   "metadata": {},
   "source": [
    "### Concluction\n",
    "\n",
    "This type of database has these characteristics: non-relational, distributed, open source, and horizontally scalable. The original purpose was for large-scale web applications. Someone in the early stage of this brand-new database revolution proposed that the trend will grow even higher in 2009. NoSQL proponents advocate the use of non-relational data storage. Common applications such as: free mode, simple replication support, simple API, eventual consistency (non-ACID), and large-capacity data. NoSQL is the key-value storage that we use the most, of course, there are other document-based, column storage, graph database, xml database, etc. Compared with the current overwhelming use of relational databases, this concept is undoubtedly an injection of new thinking."
   ]
  },
  {
   "cell_type": "markdown",
   "metadata": {},
   "source": [
    "### CONTRIBUTION\n",
    "We contributed By Own: 70%  \n",
    "By External source: 30%\n",
    "\n",
    "### CITATIONS\n",
    "https://docs.mongodb.com/\n",
    "\n",
    "### LICENSE¶\n",
    "Copyright 2020 Ruizhi Ma，Nuo Xu\n",
    "\n",
    "Permission is hereby granted, free of charge, to any person obtaining a copy of this software and associated documentation files (the \"Software\"), to deal in the Software without restriction, including without limitation the rights to use, copy, modify, merge, publish, distribute, sublicense, and/or sell copies of the Software, and to permit persons to whom the Software is furnished to do so, subject to the following conditions:\n",
    "\n",
    "The above copyright notice and this permission notice shall be included in all copies or substantial portions of the Software.\n",
    "\n",
    "THE SOFTWARE IS PROVIDED \"AS IS\", WITHOUT WARRANTY OF ANY KIND, EXPRESS OR IMPLIED, INCLUDING BUT NOT LIMITED TO THE WARRANTIES OF MERCHANTABILITY, FITNESS FOR A PARTICULAR PURPOSE AND NON INFRINGEMENT. IN NO EVENT SHALL THE AUTHORS OR COPYRIGHT HOLDERS BE LIABLE FOR ANY CLAIM, DAMAGES OR OTHER LIABILITY, WHETHER IN AN ACTION OF CONTRACT, TORT OR OTHERWISE, ARISING FROM, OUT OF OR IN CONNECTION WITH THE SOFTWARE OR THE USE OR OTHER DEALINGS IN THE SOFTWARE."
   ]
  }
 ],
 "metadata": {
  "kernelspec": {
   "display_name": "Python 3",
   "language": "python",
   "name": "python3"
  },
  "language_info": {
   "codemirror_mode": {
    "name": "ipython",
    "version": 3
   },
   "file_extension": ".py",
   "mimetype": "text/x-python",
   "name": "python",
   "nbconvert_exporter": "python",
   "pygments_lexer": "ipython3",
   "version": "3.8.1"
  }
 },
 "nbformat": 4,
 "nbformat_minor": 4
}
